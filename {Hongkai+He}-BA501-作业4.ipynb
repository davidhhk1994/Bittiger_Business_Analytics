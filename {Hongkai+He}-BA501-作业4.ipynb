{
 "cells": [
  {
   "cell_type": "code",
   "execution_count": 4,
   "metadata": {
    "ExecuteTime": {
     "end_time": "2018-03-01T20:05:06.296000Z",
     "start_time": "2018-03-01T20:05:05.799000Z"
    },
    "collapsed": true
   },
   "outputs": [],
   "source": [
    "import pandas as pd"
   ]
  },
  {
   "cell_type": "markdown",
   "metadata": {},
   "source": [
    "## Homework 1:  How can you remove duplicate values in a dataset in Python?"
   ]
  },
  {
   "cell_type": "raw",
   "metadata": {},
   "source": [
    "# Identify duplicates records in the data\n",
    "dupes=df.duplicated()\n",
    "sum(dupes)\n",
    "\n",
    "#Removing Duplicates\n",
    "df_uniq=df.drop_duplicates()"
   ]
  },
  {
   "cell_type": "markdown",
   "metadata": {},
   "source": []
  },
  {
   "cell_type": "markdown",
   "metadata": {},
   "source": [
    "## Homework 2: Determining the overall acceptnce rate"
   ]
  },
  {
   "cell_type": "code",
   "execution_count": 6,
   "metadata": {
    "ExecuteTime": {
     "end_time": "2018-03-01T03:03:01.327000Z",
     "start_time": "2018-03-01T03:03:01.299000Z"
    }
   },
   "outputs": [
    {
     "data": {
      "text/html": [
       "<div>\n",
       "<style>\n",
       "    .dataframe thead tr:only-child th {\n",
       "        text-align: right;\n",
       "    }\n",
       "\n",
       "    .dataframe thead th {\n",
       "        text-align: left;\n",
       "    }\n",
       "\n",
       "    .dataframe tbody tr th {\n",
       "        vertical-align: top;\n",
       "    }\n",
       "</style>\n",
       "<table border=\"1\" class=\"dataframe\">\n",
       "  <thead>\n",
       "    <tr style=\"text-align: right;\">\n",
       "      <th></th>\n",
       "      <th>requestor_id</th>\n",
       "      <th>time</th>\n",
       "      <th>sent_to_id</th>\n",
       "    </tr>\n",
       "  </thead>\n",
       "  <tbody>\n",
       "  </tbody>\n",
       "</table>\n",
       "</div>"
      ],
      "text/plain": [
       "Empty DataFrame\n",
       "Columns: [requestor_id, time, sent_to_id]\n",
       "Index: []"
      ]
     },
     "execution_count": 6,
     "metadata": {},
     "output_type": "execute_result"
    }
   ],
   "source": [
    "# creating new dataframe\n",
    "friend_request = pd.DataFrame(columns = ['requestor_id', 'time','sent_to_id'])\n",
    "friend_request"
   ]
  },
  {
   "cell_type": "code",
   "execution_count": 5,
   "metadata": {
    "ExecuteTime": {
     "end_time": "2018-03-01T02:19:52.735000Z",
     "start_time": "2018-03-01T02:19:52.705000Z"
    }
   },
   "outputs": [
    {
     "data": {
      "text/html": [
       "<div>\n",
       "<style>\n",
       "    .dataframe thead tr:only-child th {\n",
       "        text-align: right;\n",
       "    }\n",
       "\n",
       "    .dataframe thead th {\n",
       "        text-align: left;\n",
       "    }\n",
       "\n",
       "    .dataframe tbody tr th {\n",
       "        vertical-align: top;\n",
       "    }\n",
       "</style>\n",
       "<table border=\"1\" class=\"dataframe\">\n",
       "  <thead>\n",
       "    <tr style=\"text-align: right;\">\n",
       "      <th></th>\n",
       "      <th>time</th>\n",
       "      <th>acceptor_id</th>\n",
       "      <th>requestor_id</th>\n",
       "    </tr>\n",
       "  </thead>\n",
       "  <tbody>\n",
       "  </tbody>\n",
       "</table>\n",
       "</div>"
      ],
      "text/plain": [
       "Empty DataFrame\n",
       "Columns: [time, acceptor_id, requestor_id]\n",
       "Index: []"
      ]
     },
     "execution_count": 5,
     "metadata": {},
     "output_type": "execute_result"
    }
   ],
   "source": [
    "request_accepted = pd.DataFrame(columns = ['time', 'acceptor_id', 'requestor_id'])\n",
    "request_accepted"
   ]
  },
  {
   "cell_type": "markdown",
   "metadata": {},
   "source": [
    "##### ACCEPTANCE RATE = ACCEPTED REQUESTS / TOTAL REQUESTS"
   ]
  },
  {
   "cell_type": "code",
   "execution_count": null,
   "metadata": {
    "collapsed": true
   },
   "outputs": [],
   "source": [
    "# calculating total number of requests\n",
    "tot_req = len(friend_request)\n",
    "# calculating number of accepted requests\n",
    "acc_req = len(request_accepted)\n",
    "# calculating rate\n",
    "rate = acc_req / tot_req"
   ]
  },
  {
   "cell_type": "code",
   "execution_count": null,
   "metadata": {
    "collapsed": true
   },
   "outputs": [],
   "source": [
    "# Using SQL\n",
    "# SELECT * INTO temp_table\n",
    "# FROM friend_request\n",
    "# FULL OUTER JOIN request_accepted\n",
    "# ON friend_request.requestor_id = accepted_requested.requestor_id\n",
    "# \n",
    "# SELECT COUNT(sent_to_id) / COUNT (acceptor_id) AS Rate\n",
    "# FROM temp_table\n"
   ]
  },
  {
   "cell_type": "code",
   "execution_count": null,
   "metadata": {
    "collapsed": true
   },
   "outputs": [],
   "source": []
  },
  {
   "cell_type": "markdown",
   "metadata": {
    "ExecuteTime": {
     "end_time": "2018-03-01T03:13:11.020000Z",
     "start_time": "2018-03-01T03:13:11.011000Z"
    }
   },
   "source": [
    "## Homework 3: Identifying card issuers"
   ]
  },
  {
   "cell_type": "code",
   "execution_count": 25,
   "metadata": {
    "ExecuteTime": {
     "end_time": "2018-03-01T04:03:37.949000Z",
     "start_time": "2018-03-01T04:03:37.927000Z"
    },
    "collapsed": true
   },
   "outputs": [],
   "source": [
    "# creating a list of card numbers\n",
    "card_No = ['4175004175004172',\n",
    "           '4917491749174917',\n",
    "           '346416800707698',\n",
    "           '376416800707698',\n",
    "           '37641680070769832112',\n",
    "           '36641680070769',\n",
    "           '54545641680070769']\n",
    "# creating dictionaries to store the card number pattern data\n",
    "VISA = {\"STARTER\": [\"4\"], \"length\": 16, \"issuer\": 'VISA'}\n",
    "AMEX = {\"STARTER\": ['34', '37'], \"length\": 15, \"issuer\": 'AMEX'}\n",
    "Diners_Club = {\"STARTER\": ['36'], \"length\": 14, \"issuer\": 'Diners_Club'}\n",
    "VISAELECTRON = {\"STARTER\": ['4026', '417500', '4405', '4508', '4844', '4913', '4917'], \"length\": 16, \"issuer\": 'VISAELECTRON'}"
   ]
  },
  {
   "cell_type": "code",
   "execution_count": 29,
   "metadata": {
    "ExecuteTime": {
     "end_time": "2018-03-01T04:04:30.028000Z",
     "start_time": "2018-03-01T04:04:29.989000Z"
    },
    "collapsed": true
   },
   "outputs": [],
   "source": [
    "def issuer_recognition(card_num, A, B, C, D):\n",
    "    if (card_num[0] in A[\"STARTER\"]):\n",
    "        if (card_num[0:4] in D[\"STARTER\"]) and (len(card_num) == D[\"length\"]):\n",
    "            print (\"the card with number {} is issued by {}\".format(card_num, D[\"issuer\"]))\n",
    "        elif (card_num[0:6] in D[\"STARTER\"]) and (len(card_num) == D[\"length\"]):\n",
    "            print (\"the card with number {} is issued by {}\".format(card_num, D[\"issuer\"]))\n",
    "        elif (len(card_num) == A[\"length\"]):\n",
    "            print (\"the card with number {} is issued by {}\".format(card_num, A[\"issuer\"]))\n",
    "    elif (card_num[0:2] in B[\"STARTER\"]) and (len(card_num) == B[\"length\"]):\n",
    "        print (\"the card with number {} is issued by {}\".format(card_num, B[\"issuer\"]))\n",
    "    elif (card_num[0:2] in C[\"STARTER\"]) and (len(card_num) == C[\"length\"]):\n",
    "        print(\"the card with number {} is issued by {}\".format(card_num, C[\"issuer\"]))\n",
    "    else:\n",
    "        print(\"the issuer of the card {} cannot be determined\".format(card_num))           "
   ]
  },
  {
   "cell_type": "code",
   "execution_count": 30,
   "metadata": {
    "ExecuteTime": {
     "end_time": "2018-03-01T04:04:33.080000Z",
     "start_time": "2018-03-01T04:04:33.060000Z"
    }
   },
   "outputs": [
    {
     "name": "stdout",
     "output_type": "stream",
     "text": [
      "the card with number 4175004175004172 is issued by VISAELECTRON\n",
      "the card with number 4917491749174917 is issued by VISAELECTRON\n",
      "the card with number 346416800707698 is issued by AMEX\n",
      "the card with number 376416800707698 is issued by AMEX\n",
      "the issuer of the card 37641680070769832112 cannot be determined\n",
      "the card with number 36641680070769 is issued by Diners_Club\n",
      "the issuer of the card 54545641680070769 cannot be determined\n"
     ]
    }
   ],
   "source": [
    "for i in card_No:\n",
    "    issuer_recognition(i, VISA, AMEX, Diners_Club, VISAELECTRON)"
   ]
  },
  {
   "cell_type": "code",
   "execution_count": null,
   "metadata": {
    "collapsed": true
   },
   "outputs": [],
   "source": []
  },
  {
   "cell_type": "markdown",
   "metadata": {},
   "source": [
    "## Homework 4: time series plotting function"
   ]
  },
  {
   "cell_type": "code",
   "execution_count": 27,
   "metadata": {
    "ExecuteTime": {
     "end_time": "2018-03-01T20:40:14.914000Z",
     "start_time": "2018-03-01T20:40:14.904000Z"
    },
    "collapsed": true
   },
   "outputs": [],
   "source": [
    "import matplotlib.pyplot as plt\n",
    "import numpy as np\n",
    "import datetime"
   ]
  },
  {
   "cell_type": "code",
   "execution_count": 28,
   "metadata": {
    "ExecuteTime": {
     "end_time": "2018-03-01T20:40:20.455000Z",
     "start_time": "2018-03-01T20:40:17.529000Z"
    }
   },
   "outputs": [],
   "source": [
    "# downloading the data\n",
    "df = pd.read_csv(\"https://github.com/mingchang0804/python_notebook/raw/master/BA501_python_data.csv\")"
   ]
  },
  {
   "cell_type": "code",
   "execution_count": 29,
   "metadata": {
    "ExecuteTime": {
     "end_time": "2018-03-01T20:40:22.566000Z",
     "start_time": "2018-03-01T20:40:22.507000Z"
    }
   },
   "outputs": [
    {
     "data": {
      "text/html": [
       "<div>\n",
       "<style>\n",
       "    .dataframe thead tr:only-child th {\n",
       "        text-align: right;\n",
       "    }\n",
       "\n",
       "    .dataframe thead th {\n",
       "        text-align: left;\n",
       "    }\n",
       "\n",
       "    .dataframe tbody tr th {\n",
       "        vertical-align: top;\n",
       "    }\n",
       "</style>\n",
       "<table border=\"1\" class=\"dataframe\">\n",
       "  <thead>\n",
       "    <tr style=\"text-align: right;\">\n",
       "      <th></th>\n",
       "      <th>country</th>\n",
       "      <th>date</th>\n",
       "      <th>experiment_id</th>\n",
       "      <th>order_id</th>\n",
       "      <th>spend_usd</th>\n",
       "      <th>user_id</th>\n",
       "      <th>vertical</th>\n",
       "    </tr>\n",
       "  </thead>\n",
       "  <tbody>\n",
       "    <tr>\n",
       "      <th>0</th>\n",
       "      <td>JP</td>\n",
       "      <td>20170402</td>\n",
       "      <td>12624548</td>\n",
       "      <td>5813140433216629693</td>\n",
       "      <td>16.138855</td>\n",
       "      <td>5006730028073359543</td>\n",
       "      <td>ANDROID_APPS</td>\n",
       "    </tr>\n",
       "    <tr>\n",
       "      <th>1</th>\n",
       "      <td>US</td>\n",
       "      <td>20170403</td>\n",
       "      <td>12624549</td>\n",
       "      <td>16333056276711034931</td>\n",
       "      <td>9.990000</td>\n",
       "      <td>5938685669571545259</td>\n",
       "      <td>ANDROID_APPS</td>\n",
       "    </tr>\n",
       "    <tr>\n",
       "      <th>2</th>\n",
       "      <td>JP</td>\n",
       "      <td>20170404</td>\n",
       "      <td>12624548</td>\n",
       "      <td>11227119161741298366</td>\n",
       "      <td>19.887087</td>\n",
       "      <td>17623708458399141713</td>\n",
       "      <td>ANDROID_APPS</td>\n",
       "    </tr>\n",
       "    <tr>\n",
       "      <th>3</th>\n",
       "      <td>US</td>\n",
       "      <td>20170403</td>\n",
       "      <td>12624548</td>\n",
       "      <td>11927299833124210932</td>\n",
       "      <td>19.990000</td>\n",
       "      <td>18042812344456618148</td>\n",
       "      <td>ANDROID_APPS</td>\n",
       "    </tr>\n",
       "    <tr>\n",
       "      <th>4</th>\n",
       "      <td>JP</td>\n",
       "      <td>20170403</td>\n",
       "      <td>12624549</td>\n",
       "      <td>11644727017708872749</td>\n",
       "      <td>88.220093</td>\n",
       "      <td>4325104700699531031</td>\n",
       "      <td>ANDROID_APPS</td>\n",
       "    </tr>\n",
       "  </tbody>\n",
       "</table>\n",
       "</div>"
      ],
      "text/plain": [
       "  country      date  experiment_id              order_id  spend_usd  \\\n",
       "0      JP  20170402       12624548   5813140433216629693  16.138855   \n",
       "1      US  20170403       12624549  16333056276711034931   9.990000   \n",
       "2      JP  20170404       12624548  11227119161741298366  19.887087   \n",
       "3      US  20170403       12624548  11927299833124210932  19.990000   \n",
       "4      JP  20170403       12624549  11644727017708872749  88.220093   \n",
       "\n",
       "                user_id      vertical  \n",
       "0   5006730028073359543  ANDROID_APPS  \n",
       "1   5938685669571545259  ANDROID_APPS  \n",
       "2  17623708458399141713  ANDROID_APPS  \n",
       "3  18042812344456618148  ANDROID_APPS  \n",
       "4   4325104700699531031  ANDROID_APPS  "
      ]
     },
     "execution_count": 29,
     "metadata": {},
     "output_type": "execute_result"
    }
   ],
   "source": [
    "df.head()"
   ]
  },
  {
   "cell_type": "code",
   "execution_count": 31,
   "metadata": {
    "ExecuteTime": {
     "end_time": "2018-03-01T20:40:33.318000Z",
     "start_time": "2018-03-01T20:40:33.192000Z"
    }
   },
   "outputs": [
    {
     "data": {
      "text/html": [
       "<div>\n",
       "<style>\n",
       "    .dataframe thead tr:only-child th {\n",
       "        text-align: right;\n",
       "    }\n",
       "\n",
       "    .dataframe thead th {\n",
       "        text-align: left;\n",
       "    }\n",
       "\n",
       "    .dataframe tbody tr th {\n",
       "        vertical-align: top;\n",
       "    }\n",
       "</style>\n",
       "<table border=\"1\" class=\"dataframe\">\n",
       "  <thead>\n",
       "    <tr style=\"text-align: right;\">\n",
       "      <th></th>\n",
       "      <th>country</th>\n",
       "      <th>date</th>\n",
       "      <th>experiment_id</th>\n",
       "      <th>order_id</th>\n",
       "      <th>spend_usd</th>\n",
       "      <th>user_id</th>\n",
       "      <th>vertical</th>\n",
       "    </tr>\n",
       "  </thead>\n",
       "  <tbody>\n",
       "    <tr>\n",
       "      <th>0</th>\n",
       "      <td>JP</td>\n",
       "      <td>2017-04-02</td>\n",
       "      <td>12624548</td>\n",
       "      <td>5813140433216629693</td>\n",
       "      <td>16.138855</td>\n",
       "      <td>5006730028073359543</td>\n",
       "      <td>ANDROID_APPS</td>\n",
       "    </tr>\n",
       "    <tr>\n",
       "      <th>1</th>\n",
       "      <td>US</td>\n",
       "      <td>2017-04-03</td>\n",
       "      <td>12624549</td>\n",
       "      <td>16333056276711034931</td>\n",
       "      <td>9.990000</td>\n",
       "      <td>5938685669571545259</td>\n",
       "      <td>ANDROID_APPS</td>\n",
       "    </tr>\n",
       "    <tr>\n",
       "      <th>2</th>\n",
       "      <td>JP</td>\n",
       "      <td>2017-04-04</td>\n",
       "      <td>12624548</td>\n",
       "      <td>11227119161741298366</td>\n",
       "      <td>19.887087</td>\n",
       "      <td>17623708458399141713</td>\n",
       "      <td>ANDROID_APPS</td>\n",
       "    </tr>\n",
       "    <tr>\n",
       "      <th>3</th>\n",
       "      <td>US</td>\n",
       "      <td>2017-04-03</td>\n",
       "      <td>12624548</td>\n",
       "      <td>11927299833124210932</td>\n",
       "      <td>19.990000</td>\n",
       "      <td>18042812344456618148</td>\n",
       "      <td>ANDROID_APPS</td>\n",
       "    </tr>\n",
       "    <tr>\n",
       "      <th>4</th>\n",
       "      <td>JP</td>\n",
       "      <td>2017-04-03</td>\n",
       "      <td>12624549</td>\n",
       "      <td>11644727017708872749</td>\n",
       "      <td>88.220093</td>\n",
       "      <td>4325104700699531031</td>\n",
       "      <td>ANDROID_APPS</td>\n",
       "    </tr>\n",
       "  </tbody>\n",
       "</table>\n",
       "</div>"
      ],
      "text/plain": [
       "  country       date  experiment_id              order_id  spend_usd  \\\n",
       "0      JP 2017-04-02       12624548   5813140433216629693  16.138855   \n",
       "1      US 2017-04-03       12624549  16333056276711034931   9.990000   \n",
       "2      JP 2017-04-04       12624548  11227119161741298366  19.887087   \n",
       "3      US 2017-04-03       12624548  11927299833124210932  19.990000   \n",
       "4      JP 2017-04-03       12624549  11644727017708872749  88.220093   \n",
       "\n",
       "                user_id      vertical  \n",
       "0   5006730028073359543  ANDROID_APPS  \n",
       "1   5938685669571545259  ANDROID_APPS  \n",
       "2  17623708458399141713  ANDROID_APPS  \n",
       "3  18042812344456618148  ANDROID_APPS  \n",
       "4   4325104700699531031  ANDROID_APPS  "
      ]
     },
     "execution_count": 31,
     "metadata": {},
     "output_type": "execute_result"
    }
   ],
   "source": [
    "df.date = pd.to_datetime(df.date, format='%Y%m%d')\n",
    "df.head()"
   ]
  },
  {
   "cell_type": "code",
   "execution_count": 44,
   "metadata": {
    "ExecuteTime": {
     "end_time": "2018-03-01T21:09:07.016000Z",
     "start_time": "2018-03-01T21:09:06.900000Z"
    },
    "collapsed": true
   },
   "outputs": [],
   "source": [
    "def PrintCumulativeTimeSeries(experiment_id, country, vertical):\n",
    "    red_button_data = df[['date','spend_usd', 'country',\n",
    "                          'experiment_id', 'vertical']][df.experiment_id == experiment_id]\n",
    "\n",
    "    # plotting the trend for selected country\n",
    "    red_button_country = red_button_data[red_button_data.country == country]\n",
    "    \n",
    "    red1 = red_button_country.groupby('date')['spend_usd'].sum()\n",
    "    \n",
    "    red1 = np.cumsum(red1) \n",
    "    \n",
    "    fig, ax = plt.subplots()\n",
    "    ax.plot(red1, color=\"red\", label=\"red\")\n",
    "    \n",
    "    ax.set_title(\"Cumulative series for selected Country\")\n",
    "    ax.set_ylabel(\"Cumulative Total spend\")\n",
    "    ax.grid(True, which=\"both\")\n",
    "\n",
    "    # format date\n",
    "    plt.gcf().autofmt_xdate()\n",
    "    plt.show()  \n",
    "    \n",
    "    #plotting trends for selected vertical\n",
    "    red_button_vert = red_button_data[red_button_data.vertical == vertical]\n",
    "    \n",
    "    red2 = red_button_vert.groupby('date')['spend_usd'].sum()\n",
    "    \n",
    "    red2 = np.cumsum(red2) \n",
    "\n",
    "    fig, ax = plt.subplots()\n",
    "    ax.plot(red2, color=\"red\", label=\"red\")\n",
    "    \n",
    "    ax.set_title(\"Cumulative series for selected vertical\")\n",
    "    ax.set_ylabel(\"Cumulative Total spend\")\n",
    "    ax.grid(True, which=\"both\")\n",
    "    \n",
    "    # format date\n",
    "    plt.gcf().autofmt_xdate()\n",
    "    plt.show()\n",
    "    \n",
    "    # plotting for the combination of selected country and vertical\n",
    "    red_button = red_button_data[(red_button_data.country == country)\n",
    "                                 & (red_button_data.vertical == vertical)]\n",
    " \n",
    "    red3 = red_button.groupby('date')['spend_usd'].sum()\n",
    "    \n",
    "    red3 = np.cumsum(red3) \n",
    "   \n",
    "    fig, ax = plt.subplots()\n",
    "    ax.plot(red3, color=\"red\", label=\"red\")\n",
    "  \n",
    "    ax.set_title(\"Cumulative series for both selected Criteria\")\n",
    "    ax.set_ylabel(\"Cumulative Total spend\")\n",
    "    ax.grid(True, which=\"both\")\n",
    "\n",
    "    # format date\n",
    "    plt.gcf().autofmt_xdate()\n",
    "    plt.show() "
   ]
  },
  {
   "cell_type": "code",
   "execution_count": 49,
   "metadata": {
    "ExecuteTime": {
     "end_time": "2018-03-01T21:10:11.854000Z",
     "start_time": "2018-03-01T21:10:11.075000Z"
    },
    "scrolled": true
   },
   "outputs": [
    {
     "data": {
      "image/png": "[encoded data removed]",
      "text/plain": [
       "<matplotlib.figure.Figure at 0x11932a90>"
      ]
     },
     "metadata": {},
     "output_type": "display_data"
    },
    {
     "data": {
      "image/png": "[encoded data removed]",
      "text/plain": [
       "<matplotlib.figure.Figure at 0x11932978>"
      ]
     },
     "metadata": {},
     "output_type": "display_data"
    },
    {
     "data": {
      "image/png": "[encoded data removed]",
      "text/plain": [
       "<matplotlib.figure.Figure at 0x11a50128>"
      ]
     },
     "metadata": {},
     "output_type": "display_data"
    }
   ],
   "source": [
    "# plotting for experiment_id = 12624549, Japan, Android apps\n",
    "PrintCumulativeTimeSeries(12624549, 'JP', 'ANDROID_APPS')"
   ]
  },
  {
   "cell_type": "code",
   "execution_count": null,
   "metadata": {
    "collapsed": true
   },
   "outputs": [],
   "source": []
  },
  {
   "cell_type": "code",
   "execution_count": null,
   "metadata": {
    "collapsed": true
   },
   "outputs": [],
   "source": []
  },
  {
   "cell_type": "code",
   "execution_count": null,
   "metadata": {
    "collapsed": true
   },
   "outputs": [],
   "source": []
  }
 ],
 "metadata": {
  "kernelspec": {
   "display_name": "Python 2",
   "language": "python",
   "name": "python2"
  },
  "language_info": {
   "codemirror_mode": {
    "name": "ipython",
    "version": 2
   },
   "file_extension": ".py",
   "mimetype": "text/x-python",
   "name": "python",
   "nbconvert_exporter": "python",
   "pygments_lexer": "ipython2",
   "version": "2.7.14"
  }
 },
 "nbformat": 4,
 "nbformat_minor": 2
}
